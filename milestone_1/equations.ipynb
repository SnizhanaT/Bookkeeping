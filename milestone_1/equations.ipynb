{
  "nbformat": 4,
  "nbformat_minor": 0,
  "metadata": {
    "colab": {
      "provenance": [],
      "authorship_tag": "ABX9TyMXeO3fwZ/F1kOSX2yRdJbV"
    },
    "kernelspec": {
      "name": "python3",
      "display_name": "Python 3"
    },
    "language_info": {
      "name": "python"
    }
  },
  "cells": [
    {
      "cell_type": "code",
      "execution_count": 1,
      "metadata": {
        "colab": {
          "base_uri": "https://localhost:8080/"
        },
        "id": "NI__GN6m-htu",
        "outputId": "37221beb-0f44-4f6f-d87a-274cf8e23185"
      },
      "outputs": [
        {
          "output_type": "stream",
          "name": "stdout",
          "text": [
            "1.0 -2.0\n"
          ]
        }
      ],
      "source": [
        "import math\n",
        "\n",
        "eq = '4x^2 +4x +    (-8) =  0'\n",
        "pretty_eq = eq.replace(\" \", \"\").replace('(', '').replace(')', '')\n",
        "\n",
        "a = int(pretty_eq.split(\"x^2+\")[0])\n",
        "b = int(pretty_eq.split(\"x^2+\")[1].split(\"x+\")[0])\n",
        "c = int(pretty_eq.split(\"x+\")[1].split(\"=\")[0])\n",
        "\n",
        "sqrt_term = math.sqrt(b**2 - 4*a*c)\n",
        "\n",
        "x1 = (-b + sqrt_term) / (2 * a)\n",
        "x2 = (-b - sqrt_term) / (2 * a)\n",
        "\n",
        "print(x1, x2)\n"
      ]
    }
  ]
}