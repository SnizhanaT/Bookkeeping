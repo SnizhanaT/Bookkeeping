{
  "cells": [
    {
      "cell_type": "markdown",
      "metadata": {
        "id": "oY7M_WqQy7zz"
      },
      "source": [
        "# Assignment 10.2\n",
        "\n",
        "> Replace all TODOs with your code. Do not change any other code."
      ]
    },
    {
      "cell_type": "code",
      "execution_count": 1,
      "metadata": {
        "id": "DCZ2nU3KCFyk"
      },
      "outputs": [],
      "source": [
        "# Do not edit this cell\n",
        "\n",
        "import csv\n",
        "import unittest\n"
      ]
    },
    {
      "cell_type": "markdown",
      "metadata": {
        "id": "Jz8SYjAz0N8D"
      },
      "source": [
        "## Clean code"
      ]
    },
    {
      "cell_type": "markdown",
      "metadata": {
        "id": "IHwd1Zzby7z1"
      },
      "source": [
        "### Task 1\n",
        "\n",
        "You are given a function that reads a csv file with temperature measurements (see example below), converts Fahrenheit values to Celsius, calculates and prints some statistics, and writes to another file. It looks a bit messy, let's clean it up!\n",
        "\n",
        "Example file:\n",
        "```csv\n",
        "Temperature (F)\n",
        "78.5\n",
        "81.2\n",
        "75.9\n",
        "82.1\n",
        "```\n",
        "\n",
        "Do the steps below one by one, editing the code in the cell:\n",
        "1. Naming is so ambiguous and unclear, let's rename variables and function name with proper names.\n",
        "2. Are these comments really useful?\n",
        "3. This function does quite a lot, let's divide it in the way that each function does only one thing, and there's one main function that uses others.\n",
        "4. There seem to be some magic coefficients in the temperature conversion part; let's make them obvious.\n",
        "\n",
        "If you find any additional improvements, feel free to implement them and leave a comment under your code with an explanation."
      ]
    },
    {
      "cell_type": "code",
      "execution_count": 3,
      "metadata": {
        "tags": [
          "task_1"
        ],
        "id": "uBoo2azsCFyv"
      },
      "outputs": [],
      "source": [
        "# Constants for temperature conversion\n",
        "FAHRENHEIT_TO_CELSIUS_MULTIPLIER = 5 / 9\n",
        "FAHRENHEIT_TO_CELSIUS_OFFSET = 32\n",
        "\n",
        "def read_temperatures_from_csv(input_file):\n",
        "    \"\"\"Reads temperatures in Fahrenheit from a CSV file and returns them as a list of floats.\"\"\"\n",
        "    temperatures_fahrenheit = []\n",
        "    with open(input_file, 'r') as file:\n",
        "        reader = csv.reader(file)\n",
        "        next(reader)  # Skip the header row\n",
        "        for row in reader:\n",
        "            temperatures_fahrenheit.append(float(row[0]))\n",
        "    return temperatures_fahrenheit\n",
        "\n",
        "def convert_to_celsius(temperatures_fahrenheit):\n",
        "    \"\"\"Converts a list of Fahrenheit temperatures to Celsius.\"\"\"\n",
        "    return [\n",
        "        (temp - FAHRENHEIT_TO_CELSIUS_OFFSET) * FAHRENHEIT_TO_CELSIUS_MULTIPLIER\n",
        "        for temp in temperatures_fahrenheit\n",
        "    ]\n",
        "\n",
        "def calculate_statistics(temperatures_celsius):\n",
        "    \"\"\"Calculates and returns the average, minimum, and maximum of a list of temperatures.\"\"\"\n",
        "    average = sum(temperatures_celsius) / len(temperatures_celsius)\n",
        "    minimum = min(temperatures_celsius)\n",
        "    maximum = max(temperatures_celsius)\n",
        "    return average, minimum, maximum\n",
        "\n",
        "def write_temperatures_to_csv(output_file, temperatures_celsius):\n",
        "    \"\"\"Writes a list of Celsius temperatures to a CSV file.\"\"\"\n",
        "    with open(output_file, 'w', newline='') as file:\n",
        "        writer = csv.writer(file)\n",
        "        writer.writerow(['Temperature (C)'])\n",
        "        for temp in temperatures_celsius:\n",
        "            writer.writerow([temp])\n",
        "\n",
        "def process_temperature_data(input_file, output_file):\n",
        "    \"\"\"Main function to read, process, and save temperature data.\"\"\"\n",
        "    # Step 1: Read temperatures from the input file\n",
        "    temperatures_fahrenheit = read_temperatures_from_csv(input_file)\n",
        "\n",
        "    # Step 2: Convert temperatures to Celsius\n",
        "    temperatures_celsius = convert_to_celsius(temperatures_fahrenheit)\n",
        "\n",
        "    # Step 3: Calculate and print statistics\n",
        "    average, minimum, maximum = calculate_statistics(temperatures_celsius)\n",
        "    print(\"Statistics:\")\n",
        "    print(f\"Average: {average:.2f}°C\")\n",
        "    print(f\"Minimum: {minimum:.2f}°C\")\n",
        "    print(f\"Maximum: {maximum:.2f}°C\")\n",
        "\n",
        "    # Step 4: Write temperatures to the output file\n",
        "    write_temperatures_to_csv(output_file, temperatures_celsius)\n"
      ]
    },
    {
      "cell_type": "markdown",
      "metadata": {
        "id": "lL-ELM-Ay7z2"
      },
      "source": [
        "### Task 2\n",
        "\n",
        "How would you write tests for the initial implementation? What exactly would you test in the function?\n",
        "\n",
        "I hope you see now that once functionality is separated, it's easier to test it in isolation. So, let's write a couple of unit tests for your function and one integration test for your main function.\n",
        "\n",
        "Hint: you would probably want to mock reading from/writing to file to make the test independent from the environment."
      ]
    },
    {
      "cell_type": "code",
      "execution_count": 2,
      "metadata": {
        "id": "cibiSsjry7z3",
        "tags": [
          "task_2"
        ]
      },
      "outputs": [],
      "source": [
        "from unittest.mock import mock_open, patch\n",
        "\n",
        "class UnitTestCase(unittest.TestCase):\n",
        "    def test_read_temperatures_from_csv(self):\n",
        "        # Mock CSV content\n",
        "        mock_csv = \"Temperature (F)\\n78.5\\n81.2\\n75.9\\n82.1\\n\"\n",
        "        with patch(\"builtins.open\", mock_open(read_data=mock_csv)):\n",
        "            result = read_temperatures_from_csv(\"input.csv\")\n",
        "        self.assertEqual(result, [78.5, 81.2, 75.9, 82.1])\n",
        "\n",
        "    def test_convert_to_celsius(self):\n",
        "        temperatures_fahrenheit = [78.5, 81.2, 75.9, 82.1]\n",
        "        result = convert_to_celsius(temperatures_fahrenheit)\n",
        "        expected = [(78.5 - 32) * 5 / 9, (81.2 - 32) * 5 / 9, (75.9 - 32) * 5 / 9, (82.1 - 32) * 5 / 9]\n",
        "        self.assertAlmostEqual(result, expected, places=2)\n",
        "\n",
        "    def test_calculate_statistics(self):\n",
        "        temperatures_celsius = [25.0, 27.0, 23.0, 28.0]\n",
        "        average, minimum, maximum = calculate_statistics(temperatures_celsius)\n",
        "        self.assertAlmostEqual(average, 25.75, places=2)\n",
        "        self.assertEqual(minimum, 23.0)\n",
        "        self.assertEqual(maximum, 28.0)\n",
        "\n",
        "    def test_write_temperatures_to_csv(self):\n",
        "        # Prepare mock data\n",
        "        temperatures_celsius = [25.0, 27.0, 23.0, 28.0]\n",
        "        mock_file = mock_open()\n",
        "\n",
        "        with patch(\"builtins.open\", mock_file):\n",
        "            write_temperatures_to_csv(\"output.csv\", temperatures_celsius)\n",
        "\n",
        "        # Validate the written data\n",
        "        mock_file().write.assert_any_call(\"Temperature (C)\\n\")\n",
        "        for temp in temperatures_celsius:\n",
        "            mock_file().write.assert_any_call(f\"{temp}\\n\")\n",
        "\n",
        "class IntegrationTestCase(unittest.TestCase):\n",
        "    @patch(\"builtins.open\", new_callable=mock_open)\n",
        "    def test_process_temperature_data(self, mock_file):\n",
        "        # Mock input CSV content\n",
        "        mock_file.side_effect = [\n",
        "            mock_open(read_data=\"Temperature (F)\\n78.5\\n81.2\\n75.9\\n82.1\\n\").return_value,\n",
        "            mock_open().return_value,\n",
        "        ]\n",
        "\n",
        "        # Run the main function\n",
        "        process_temperature_data(\"input.csv\", \"output.csv\")\n",
        "\n",
        "        # Validate the output CSV\n",
        "        mock_file().write.assert_any_call(\"Temperature (C)\\n\")\n",
        "        mock_file().write.assert_any_call(\"25.83\\n\")  # 78.5 converted to Celsius\n",
        "        mock_file().write.assert_any_call(\"27.33\\n\")  # 81.2 converted to Celsius"
      ]
    }
  ],
  "metadata": {
    "colab": {
      "provenance": []
    },
    "kernelspec": {
      "display_name": "venv",
      "language": "python",
      "name": "python3"
    },
    "language_info": {
      "codemirror_mode": {
        "name": "ipython",
        "version": 3
      },
      "file_extension": ".py",
      "mimetype": "text/x-python",
      "name": "python",
      "nbconvert_exporter": "python",
      "pygments_lexer": "ipython3",
      "version": "3.11.5"
    },
    "orig_nbformat": 4
  },
  "nbformat": 4,
  "nbformat_minor": 0
}